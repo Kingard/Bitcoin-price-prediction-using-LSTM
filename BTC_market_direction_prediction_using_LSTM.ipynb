{
  "nbformat": 4,
  "nbformat_minor": 0,
  "metadata": {
    "colab": {
      "name": "BTC market direction prediction using LSTM",
      "provenance": [],
      "collapsed_sections": []
    },
    "kernelspec": {
      "name": "python3",
      "display_name": "Python 3"
    }
  },
  "cells": [
    {
      "cell_type": "code",
      "metadata": {
        "id": "MfFwYHsB4Him"
      },
      "source": [
        "import numpy as np # We need to import the Numpy library as it's optimized to numerical operations\n",
        "import pandas as pd # The pandas dataframe is a python data structure that helps construct rows and columns for data sets\n",
        "import matplotlib.pyplot as plt # This library is responsible for creating the necessary plots and graphs\n",
        "import tensorflow # This is a python framework with which different models can be easily implemented"
      ],
      "execution_count": 1,
      "outputs": []
    },
    {
      "cell_type": "code",
      "metadata": {
        "id": "Hr0NvFeZ9w-S"
      },
      "source": [
        "data = pd.read_csv('coin_Bitcoin.csv') # Here we are simply using pandas to import the csv file containing the BTC data"
      ],
      "execution_count": 2,
      "outputs": []
    },
    {
      "cell_type": "code",
      "metadata": {
        "colab": {
          "base_uri": "https://localhost:8080/",
          "height": 206
        },
        "id": "dn8uTGjarAQH",
        "outputId": "8191c3f3-4f99-4696-8b7a-bde68f252517"
      },
      "source": [
        "data.head() # Taking a quick look at the first 5 rows of the data"
      ],
      "execution_count": 3,
      "outputs": [
        {
          "output_type": "execute_result",
          "data": {
            "text/html": [
              "<div>\n",
              "<style scoped>\n",
              "    .dataframe tbody tr th:only-of-type {\n",
              "        vertical-align: middle;\n",
              "    }\n",
              "\n",
              "    .dataframe tbody tr th {\n",
              "        vertical-align: top;\n",
              "    }\n",
              "\n",
              "    .dataframe thead th {\n",
              "        text-align: right;\n",
              "    }\n",
              "</style>\n",
              "<table border=\"1\" class=\"dataframe\">\n",
              "  <thead>\n",
              "    <tr style=\"text-align: right;\">\n",
              "      <th></th>\n",
              "      <th>SNo</th>\n",
              "      <th>Name</th>\n",
              "      <th>Symbol</th>\n",
              "      <th>Date</th>\n",
              "      <th>High</th>\n",
              "      <th>Low</th>\n",
              "      <th>Open</th>\n",
              "      <th>Close</th>\n",
              "      <th>Volume</th>\n",
              "      <th>Marketcap</th>\n",
              "    </tr>\n",
              "  </thead>\n",
              "  <tbody>\n",
              "    <tr>\n",
              "      <th>0</th>\n",
              "      <td>1</td>\n",
              "      <td>Bitcoin</td>\n",
              "      <td>BTC</td>\n",
              "      <td>2013-04-29 23:59:59</td>\n",
              "      <td>147.488007</td>\n",
              "      <td>134.000000</td>\n",
              "      <td>134.444000</td>\n",
              "      <td>144.539993</td>\n",
              "      <td>0.0</td>\n",
              "      <td>1.603769e+09</td>\n",
              "    </tr>\n",
              "    <tr>\n",
              "      <th>1</th>\n",
              "      <td>2</td>\n",
              "      <td>Bitcoin</td>\n",
              "      <td>BTC</td>\n",
              "      <td>2013-04-30 23:59:59</td>\n",
              "      <td>146.929993</td>\n",
              "      <td>134.050003</td>\n",
              "      <td>144.000000</td>\n",
              "      <td>139.000000</td>\n",
              "      <td>0.0</td>\n",
              "      <td>1.542813e+09</td>\n",
              "    </tr>\n",
              "    <tr>\n",
              "      <th>2</th>\n",
              "      <td>3</td>\n",
              "      <td>Bitcoin</td>\n",
              "      <td>BTC</td>\n",
              "      <td>2013-05-01 23:59:59</td>\n",
              "      <td>139.889999</td>\n",
              "      <td>107.720001</td>\n",
              "      <td>139.000000</td>\n",
              "      <td>116.989998</td>\n",
              "      <td>0.0</td>\n",
              "      <td>1.298955e+09</td>\n",
              "    </tr>\n",
              "    <tr>\n",
              "      <th>3</th>\n",
              "      <td>4</td>\n",
              "      <td>Bitcoin</td>\n",
              "      <td>BTC</td>\n",
              "      <td>2013-05-02 23:59:59</td>\n",
              "      <td>125.599998</td>\n",
              "      <td>92.281898</td>\n",
              "      <td>116.379997</td>\n",
              "      <td>105.209999</td>\n",
              "      <td>0.0</td>\n",
              "      <td>1.168517e+09</td>\n",
              "    </tr>\n",
              "    <tr>\n",
              "      <th>4</th>\n",
              "      <td>5</td>\n",
              "      <td>Bitcoin</td>\n",
              "      <td>BTC</td>\n",
              "      <td>2013-05-03 23:59:59</td>\n",
              "      <td>108.127998</td>\n",
              "      <td>79.099998</td>\n",
              "      <td>106.250000</td>\n",
              "      <td>97.750000</td>\n",
              "      <td>0.0</td>\n",
              "      <td>1.085995e+09</td>\n",
              "    </tr>\n",
              "  </tbody>\n",
              "</table>\n",
              "</div>"
            ],
            "text/plain": [
              "   SNo     Name Symbol  ...       Close  Volume     Marketcap\n",
              "0    1  Bitcoin    BTC  ...  144.539993     0.0  1.603769e+09\n",
              "1    2  Bitcoin    BTC  ...  139.000000     0.0  1.542813e+09\n",
              "2    3  Bitcoin    BTC  ...  116.989998     0.0  1.298955e+09\n",
              "3    4  Bitcoin    BTC  ...  105.209999     0.0  1.168517e+09\n",
              "4    5  Bitcoin    BTC  ...   97.750000     0.0  1.085995e+09\n",
              "\n",
              "[5 rows x 10 columns]"
            ]
          },
          "metadata": {
            "tags": []
          },
          "execution_count": 3
        }
      ]
    },
    {
      "cell_type": "code",
      "metadata": {
        "colab": {
          "base_uri": "https://localhost:8080/",
          "height": 238
        },
        "id": "94b__aWErCsU",
        "outputId": "14ace039-5cf7-480c-84fe-2e53aa332389"
      },
      "source": [
        "# Here we specify the columns we need and set the date as index\n",
        "required_data = data[['Date','High','Low','Open','Close']]\n",
        "required_data.set_index(\"Date\",drop=True,inplace=True)\n",
        "required_data.head()"
      ],
      "execution_count": 5,
      "outputs": [
        {
          "output_type": "execute_result",
          "data": {
            "text/html": [
              "<div>\n",
              "<style scoped>\n",
              "    .dataframe tbody tr th:only-of-type {\n",
              "        vertical-align: middle;\n",
              "    }\n",
              "\n",
              "    .dataframe tbody tr th {\n",
              "        vertical-align: top;\n",
              "    }\n",
              "\n",
              "    .dataframe thead th {\n",
              "        text-align: right;\n",
              "    }\n",
              "</style>\n",
              "<table border=\"1\" class=\"dataframe\">\n",
              "  <thead>\n",
              "    <tr style=\"text-align: right;\">\n",
              "      <th></th>\n",
              "      <th>High</th>\n",
              "      <th>Low</th>\n",
              "      <th>Open</th>\n",
              "      <th>Close</th>\n",
              "    </tr>\n",
              "    <tr>\n",
              "      <th>Date</th>\n",
              "      <th></th>\n",
              "      <th></th>\n",
              "      <th></th>\n",
              "      <th></th>\n",
              "    </tr>\n",
              "  </thead>\n",
              "  <tbody>\n",
              "    <tr>\n",
              "      <th>2013-04-29 23:59:59</th>\n",
              "      <td>147.488007</td>\n",
              "      <td>134.000000</td>\n",
              "      <td>134.444000</td>\n",
              "      <td>144.539993</td>\n",
              "    </tr>\n",
              "    <tr>\n",
              "      <th>2013-04-30 23:59:59</th>\n",
              "      <td>146.929993</td>\n",
              "      <td>134.050003</td>\n",
              "      <td>144.000000</td>\n",
              "      <td>139.000000</td>\n",
              "    </tr>\n",
              "    <tr>\n",
              "      <th>2013-05-01 23:59:59</th>\n",
              "      <td>139.889999</td>\n",
              "      <td>107.720001</td>\n",
              "      <td>139.000000</td>\n",
              "      <td>116.989998</td>\n",
              "    </tr>\n",
              "    <tr>\n",
              "      <th>2013-05-02 23:59:59</th>\n",
              "      <td>125.599998</td>\n",
              "      <td>92.281898</td>\n",
              "      <td>116.379997</td>\n",
              "      <td>105.209999</td>\n",
              "    </tr>\n",
              "    <tr>\n",
              "      <th>2013-05-03 23:59:59</th>\n",
              "      <td>108.127998</td>\n",
              "      <td>79.099998</td>\n",
              "      <td>106.250000</td>\n",
              "      <td>97.750000</td>\n",
              "    </tr>\n",
              "  </tbody>\n",
              "</table>\n",
              "</div>"
            ],
            "text/plain": [
              "                           High         Low        Open       Close\n",
              "Date                                                               \n",
              "2013-04-29 23:59:59  147.488007  134.000000  134.444000  144.539993\n",
              "2013-04-30 23:59:59  146.929993  134.050003  144.000000  139.000000\n",
              "2013-05-01 23:59:59  139.889999  107.720001  139.000000  116.989998\n",
              "2013-05-02 23:59:59  125.599998   92.281898  116.379997  105.209999\n",
              "2013-05-03 23:59:59  108.127998   79.099998  106.250000   97.750000"
            ]
          },
          "metadata": {
            "tags": []
          },
          "execution_count": 5
        }
      ]
    },
    {
      "cell_type": "code",
      "metadata": {
        "colab": {
          "base_uri": "https://localhost:8080/",
          "height": 458
        },
        "id": "8EBgLm-ZrAap",
        "outputId": "f9898ec2-3676-428f-8062-8ef76514ea73"
      },
      "source": [
        "# The log returns is optimized for stationarity and so we create an extra column for it\n",
        "required_data['% Returns'] = required_data.Close.pct_change() # we find the percentage change using the pct_change() method\n",
        "required_data['Log returns'] = np.log(1 + required_data['% Returns']) # from the percentage returns we can easily compute log returns\n",
        "required_data.head()"
      ],
      "execution_count": 6,
      "outputs": [
        {
          "output_type": "stream",
          "text": [
            "/usr/local/lib/python3.7/dist-packages/ipykernel_launcher.py:1: SettingWithCopyWarning: \n",
            "A value is trying to be set on a copy of a slice from a DataFrame.\n",
            "Try using .loc[row_indexer,col_indexer] = value instead\n",
            "\n",
            "See the caveats in the documentation: https://pandas.pydata.org/pandas-docs/stable/user_guide/indexing.html#returning-a-view-versus-a-copy\n",
            "  \"\"\"Entry point for launching an IPython kernel.\n",
            "/usr/local/lib/python3.7/dist-packages/ipykernel_launcher.py:2: SettingWithCopyWarning: \n",
            "A value is trying to be set on a copy of a slice from a DataFrame.\n",
            "Try using .loc[row_indexer,col_indexer] = value instead\n",
            "\n",
            "See the caveats in the documentation: https://pandas.pydata.org/pandas-docs/stable/user_guide/indexing.html#returning-a-view-versus-a-copy\n",
            "  \n"
          ],
          "name": "stderr"
        },
        {
          "output_type": "execute_result",
          "data": {
            "text/html": [
              "<div>\n",
              "<style scoped>\n",
              "    .dataframe tbody tr th:only-of-type {\n",
              "        vertical-align: middle;\n",
              "    }\n",
              "\n",
              "    .dataframe tbody tr th {\n",
              "        vertical-align: top;\n",
              "    }\n",
              "\n",
              "    .dataframe thead th {\n",
              "        text-align: right;\n",
              "    }\n",
              "</style>\n",
              "<table border=\"1\" class=\"dataframe\">\n",
              "  <thead>\n",
              "    <tr style=\"text-align: right;\">\n",
              "      <th></th>\n",
              "      <th>High</th>\n",
              "      <th>Low</th>\n",
              "      <th>Open</th>\n",
              "      <th>Close</th>\n",
              "      <th>% Returns</th>\n",
              "      <th>Log returns</th>\n",
              "    </tr>\n",
              "    <tr>\n",
              "      <th>Date</th>\n",
              "      <th></th>\n",
              "      <th></th>\n",
              "      <th></th>\n",
              "      <th></th>\n",
              "      <th></th>\n",
              "      <th></th>\n",
              "    </tr>\n",
              "  </thead>\n",
              "  <tbody>\n",
              "    <tr>\n",
              "      <th>2013-04-29 23:59:59</th>\n",
              "      <td>147.488007</td>\n",
              "      <td>134.000000</td>\n",
              "      <td>134.444000</td>\n",
              "      <td>144.539993</td>\n",
              "      <td>NaN</td>\n",
              "      <td>NaN</td>\n",
              "    </tr>\n",
              "    <tr>\n",
              "      <th>2013-04-30 23:59:59</th>\n",
              "      <td>146.929993</td>\n",
              "      <td>134.050003</td>\n",
              "      <td>144.000000</td>\n",
              "      <td>139.000000</td>\n",
              "      <td>-0.038328</td>\n",
              "      <td>-0.039082</td>\n",
              "    </tr>\n",
              "    <tr>\n",
              "      <th>2013-05-01 23:59:59</th>\n",
              "      <td>139.889999</td>\n",
              "      <td>107.720001</td>\n",
              "      <td>139.000000</td>\n",
              "      <td>116.989998</td>\n",
              "      <td>-0.158345</td>\n",
              "      <td>-0.172385</td>\n",
              "    </tr>\n",
              "    <tr>\n",
              "      <th>2013-05-02 23:59:59</th>\n",
              "      <td>125.599998</td>\n",
              "      <td>92.281898</td>\n",
              "      <td>116.379997</td>\n",
              "      <td>105.209999</td>\n",
              "      <td>-0.100692</td>\n",
              "      <td>-0.106130</td>\n",
              "    </tr>\n",
              "    <tr>\n",
              "      <th>2013-05-03 23:59:59</th>\n",
              "      <td>108.127998</td>\n",
              "      <td>79.099998</td>\n",
              "      <td>106.250000</td>\n",
              "      <td>97.750000</td>\n",
              "      <td>-0.070906</td>\n",
              "      <td>-0.073545</td>\n",
              "    </tr>\n",
              "  </tbody>\n",
              "</table>\n",
              "</div>"
            ],
            "text/plain": [
              "                           High         Low  ...  % Returns  Log returns\n",
              "Date                                         ...                        \n",
              "2013-04-29 23:59:59  147.488007  134.000000  ...        NaN          NaN\n",
              "2013-04-30 23:59:59  146.929993  134.050003  ...  -0.038328    -0.039082\n",
              "2013-05-01 23:59:59  139.889999  107.720001  ...  -0.158345    -0.172385\n",
              "2013-05-02 23:59:59  125.599998   92.281898  ...  -0.100692    -0.106130\n",
              "2013-05-03 23:59:59  108.127998   79.099998  ...  -0.070906    -0.073545\n",
              "\n",
              "[5 rows x 6 columns]"
            ]
          },
          "metadata": {
            "tags": []
          },
          "execution_count": 6
        }
      ]
    },
    {
      "cell_type": "code",
      "metadata": {
        "colab": {
          "base_uri": "https://localhost:8080/"
        },
        "id": "OjP38Gr3v2qH",
        "outputId": "89778a95-a41c-4a55-8115-f0ca0221ee8d"
      },
      "source": [
        "required_data.dropna(inplace=True) # We drop all null/NaN values so that we do not get a value error\n"
      ],
      "execution_count": 7,
      "outputs": [
        {
          "output_type": "stream",
          "text": [
            "/usr/local/lib/python3.7/dist-packages/ipykernel_launcher.py:1: SettingWithCopyWarning: \n",
            "A value is trying to be set on a copy of a slice from a DataFrame\n",
            "\n",
            "See the caveats in the documentation: https://pandas.pydata.org/pandas-docs/stable/user_guide/indexing.html#returning-a-view-versus-a-copy\n",
            "  \"\"\"Entry point for launching an IPython kernel.\n"
          ],
          "name": "stderr"
        }
      ]
    },
    {
      "cell_type": "code",
      "metadata": {
        "colab": {
          "base_uri": "https://localhost:8080/",
          "height": 629
        },
        "id": "sf3471ujrZDW",
        "outputId": "25d63bfb-7afa-49cb-acea-65adcbec7264"
      },
      "source": [
        "# We make a plot of the closing price over the given timeframe to have a peek at the price behaviour prior to modeling \n",
        "plt.figure(figsize=(16,9))\n",
        "plt.plot(range(required_data.shape[0]),required_data['Close'],label='bitcoin close price')\n",
        "plt.xticks(range(0,required_data.shape[0],150),required_data.index[::150],rotation=45)\n",
        "plt.xlabel('Date',fontsize=15)\n",
        "plt.ylabel('Close price',fontsize=15)\n",
        "plt.legend(loc='best')\n",
        "plt.show()"
      ],
      "execution_count": 8,
      "outputs": [
        {
          "output_type": "display_data",
          "data": {
            "image/png": "[encoded data removed]",
            "text/plain": [
              "<Figure size 1152x648 with 1 Axes>"
            ]
          },
          "metadata": {
            "tags": [],
            "needs_background": "light"
          }
        }
      ]
    },
    {
      "cell_type": "code",
      "metadata": {
        "colab": {
          "base_uri": "https://localhost:8080/"
        },
        "id": "rpeaoSLSq9rc",
        "outputId": "9a2b4f68-117e-42f5-c601-4e31a0b8f903"
      },
      "source": [
        "# For the training inputs, we will utilize two parameters, the closing price and the log returns\n",
        "x = required_data[['Close','Log returns']].values\n",
        "x"
      ],
      "execution_count": 9,
      "outputs": [
        {
          "output_type": "execute_result",
          "data": {
            "text/plain": [
              "array([[ 1.39000000e+02, -3.90823063e-02],\n",
              "       [ 1.16989998e+02, -1.72385490e-01],\n",
              "       [ 1.05209999e+02, -1.06130099e-01],\n",
              "       ...,\n",
              "       [ 4.70938530e+04, -5.39697542e-02],\n",
              "       [ 4.63397601e+04, -1.61421417e-02],\n",
              "       [ 4.61884513e+04, -3.27054722e-03]])"
            ]
          },
          "metadata": {
            "tags": []
          },
          "execution_count": 9
        }
      ]
    },
    {
      "cell_type": "code",
      "metadata": {
        "colab": {
          "base_uri": "https://localhost:8080/",
          "height": 446
        },
        "id": "I6tmDampzQf8",
        "outputId": "22ec0cf2-211d-4f1b-de14-8086d50520cd"
      },
      "source": [
        "# The log returns is a stationary parameter and we can observe its mean reversion from the plot \n",
        "plt.figure(figsize=(12,7))\n",
        "plt.plot(required_data['Log returns'])"
      ],
      "execution_count": 10,
      "outputs": [
        {
          "output_type": "execute_result",
          "data": {
            "text/plain": [
              "[<matplotlib.lines.Line2D at 0x7f7fda317f50>]"
            ]
          },
          "metadata": {
            "tags": []
          },
          "execution_count": 10
        },
        {
          "output_type": "display_data",
          "data": {
            "image/png": "[encoded data removed]",
            "text/plain": [
              "<Figure size 864x504 with 1 Axes>"
            ]
          },
          "metadata": {
            "tags": [],
            "needs_background": "light"
          }
        }
      ]
    },
    {
      "cell_type": "code",
      "metadata": {
        "id": "Dut1VFwZuSiX"
      },
      "source": [
        "x = required_data[['Close','Log returns']].values"
      ],
      "execution_count": 11,
      "outputs": []
    },
    {
      "cell_type": "code",
      "metadata": {
        "id": "18WtO5PNzWRf"
      },
      "source": [
        "# Normalization: This helps to scale the data so that it lies within the range 0 to 1, this helps especially\n",
        "#                 when the data has a high standard deviation\n",
        "\n",
        "from sklearn.preprocessing import MinMaxScaler\n",
        "from sklearn.preprocessing import StandardScaler\n"
      ],
      "execution_count": 13,
      "outputs": []
    },
    {
      "cell_type": "code",
      "metadata": {
        "colab": {
          "base_uri": "https://localhost:8080/"
        },
        "id": "KJv3n9HG1me8",
        "outputId": "4e49764c-e2bc-4320-84a7-d74d45ef4e1b"
      },
      "source": [
        "scaler = MinMaxScaler(feature_range=(0,1)).fit(x) # we pass the relevant data to the MinMax scaler\n",
        "x_scaled = scaler.transform(x)\n",
        "x_scaled[0:5]"
      ],
      "execution_count": 14,
      "outputs": [
        {
          "output_type": "execute_result",
          "data": {
            "text/plain": [
              "array([[1.22789530e-03, 5.17705755e-01],\n",
              "       [8.44922917e-04, 3.55572157e-01],\n",
              "       [6.39951823e-04, 4.36157067e-01],\n",
              "       [5.10148400e-04, 4.75789397e-01],\n",
              "       [7.66797291e-04, 7.36176265e-01]])"
            ]
          },
          "metadata": {
            "tags": []
          },
          "execution_count": 14
        }
      ]
    },
    {
      "cell_type": "code",
      "metadata": {
        "id": "NjOnRp0BtExL",
        "colab": {
          "base_uri": "https://localhost:8080/"
        },
        "outputId": "98fe1d02-e453-4151-a892-90d5cc0b2848"
      },
      "source": [
        "y = [x[0] for x in x_scaled] # For the training outputs, we specify only the closing price as that is what we want to predict, right?\n",
        "y[:5]"
      ],
      "execution_count": 15,
      "outputs": [
        {
          "output_type": "execute_result",
          "data": {
            "text/plain": [
              "[0.0012278952992176289,\n",
              " 0.0008449229166509456,\n",
              " 0.0006399518234535607,\n",
              " 0.0005101484001897834,\n",
              " 0.0007667972913573161]"
            ]
          },
          "metadata": {
            "tags": []
          },
          "execution_count": 15
        }
      ]
    },
    {
      "cell_type": "code",
      "metadata": {
        "colab": {
          "base_uri": "https://localhost:8080/"
        },
        "id": "8IMKN9Lmp6sV",
        "outputId": "4dd0123e-575d-422c-c39d-7d8388a23ca4"
      },
      "source": [
        "split_point = int(len(x_scaled)*0.8) # Using 80% of the data as training set, we mark out a split point at the 80% mark\n",
        "print(split_point)"
      ],
      "execution_count": 16,
      "outputs": [
        {
          "output_type": "stream",
          "text": [
            "2288\n"
          ],
          "name": "stdout"
        }
      ]
    },
    {
      "cell_type": "code",
      "metadata": {
        "id": "1Y_YUj66quGh"
      },
      "source": [
        "# Creating the training and testing sequence\n",
        "x_train = x_scaled[:split_point]\n",
        "x_test = x_scaled[split_point:]\n",
        "y_train = y[:split_point]\n",
        "y_test = y[split_point:]"
      ],
      "execution_count": 17,
      "outputs": []
    },
    {
      "cell_type": "code",
      "metadata": {
        "id": "Cq3-nHf9rfMK"
      },
      "source": [
        "# Here we are simply verifying that the datasets have the right dimensions\n",
        "assert len(x_train) == len(y_train)\n",
        "assert len(x_test) == len(y_test)"
      ],
      "execution_count": 19,
      "outputs": []
    },
    {
      "cell_type": "markdown",
      "metadata": {
        "id": "Mg0g5FKctHk3"
      },
      "source": [
        "Labeling the model"
      ]
    },
    {
      "cell_type": "code",
      "metadata": {
        "id": "n3NselTDtTbZ"
      },
      "source": [
        "time_step = 3 # the time step for the LSTM model\n",
        "xtrain = []\n",
        "ytrain = []\n",
        "xtest = []\n",
        "ytest = []\n",
        "\n",
        "for i in range(time_step,len(x_train)):\n",
        "  xtrain.append(x_train[i-time_step:i,:x_train.shape[1]]) # we want to use the last 3 days' data to predict the next day\n",
        "  ytrain.append(y_train[i])\n",
        "for i in range(time_step, len(y_test)):\n",
        "  xtest.append(x_test[i-time_step:i,:x_test.shape[1]])\n",
        "  ytest.append(y_test[i])"
      ],
      "execution_count": 21,
      "outputs": []
    },
    {
      "cell_type": "code",
      "metadata": {
        "colab": {
          "base_uri": "https://localhost:8080/"
        },
        "id": "xD4goNek2fbz",
        "outputId": "160506ba-5288-4b22-affd-36e0e94da43e"
      },
      "source": [
        "print(xtrain[0])\n",
        "print(ytrain[0])\n",
        "print(x_train[:5])"
      ],
      "execution_count": 22,
      "outputs": [
        {
          "output_type": "stream",
          "text": [
            "[[0.0012279  0.51770576]\n",
            " [0.00084492 0.35557216]\n",
            " [0.00063995 0.43615707]]\n",
            "0.0005101484001897834\n",
            "[[1.22789530e-03 5.17705755e-01]\n",
            " [8.44922917e-04 3.55572157e-01]\n",
            " [6.39951823e-04 4.36157067e-01]\n",
            " [5.10148400e-04 4.75789397e-01]\n",
            " [7.66797291e-04 7.36176265e-01]]\n"
          ],
          "name": "stdout"
        }
      ]
    },
    {
      "cell_type": "code",
      "metadata": {
        "id": "u5uh5-Ibx3Jv"
      },
      "source": [
        "# LSTM architecture\n",
        "# Number of observations\n",
        "# time steps\n",
        "# number of Features per step \n",
        "\n",
        "# We'll need to add a temporal dimension"
      ],
      "execution_count": 23,
      "outputs": []
    },
    {
      "cell_type": "markdown",
      "metadata": {
        "id": "yCmh2zYk1kpj"
      },
      "source": [
        " LSTM architecture\n",
        "- Number of observations\n",
        "- time steps\n",
        "- number of Features per step \n"
      ]
    },
    {
      "cell_type": "code",
      "metadata": {
        "colab": {
          "base_uri": "https://localhost:8080/"
        },
        "id": "EhgRgQLw1iUi",
        "outputId": "ed0925c2-b42b-45f7-e2e0-29c01a38183b"
      },
      "source": [
        "np.array(xtrain).shape"
      ],
      "execution_count": 26,
      "outputs": [
        {
          "output_type": "execute_result",
          "data": {
            "text/plain": [
              "(2285, 3, 2)"
            ]
          },
          "metadata": {
            "tags": []
          },
          "execution_count": 26
        }
      ]
    },
    {
      "cell_type": "code",
      "metadata": {
        "id": "6-9HN7Kq2caH"
      },
      "source": [
        "xtrain, ytrain = np.array(xtrain), np.array(ytrain)\n",
        "xtrain = np.reshape(xtrain,(xtrain.shape[0],xtrain.shape[1],xtrain.shape[2]))\n",
        "\n",
        "xtest, ytest = np.array(xtest), np.array(ytest)\n",
        "xtest = np.reshape(xtest,(xtest.shape[0],xtest.shape[1],xtest.shape[2]))"
      ],
      "execution_count": 28,
      "outputs": []
    },
    {
      "cell_type": "code",
      "metadata": {
        "colab": {
          "base_uri": "https://localhost:8080/"
        },
        "id": "qEJF2LB33Nrc",
        "outputId": "10155241-34c4-4614-9687-42cad5083378"
      },
      "source": [
        "print(xtrain.shape)\n",
        "print(ytrain.shape)\n",
        "print('----')\n",
        "print(xtest.shape)\n",
        "print(ytest.shape)"
      ],
      "execution_count": 30,
      "outputs": [
        {
          "output_type": "stream",
          "text": [
            "(2285, 3, 2)\n",
            "(2285,)\n",
            "----\n",
            "(570, 3, 2)\n",
            "(570,)\n"
          ],
          "name": "stdout"
        }
      ]
    },
    {
      "cell_type": "code",
      "metadata": {
        "id": "-usP5GUdqm39"
      },
      "source": [
        "from keras.models import Sequential\n",
        "from keras.layers import LSTM, Dense"
      ],
      "execution_count": 32,
      "outputs": []
    },
    {
      "cell_type": "code",
      "metadata": {
        "colab": {
          "base_uri": "https://localhost:8080/"
        },
        "id": "BI4UvIhmvr7p",
        "outputId": "91140090-517e-49e9-ed91-0382f1d97cec"
      },
      "source": [
        "# the input shape comprises the time step and the number of obsevations\n",
        "model = Sequential()\n",
        "model.add(LSTM(4,input_shape=(xtrain.shape[1],xtrain.shape[2])))\n",
        "model.add(Dense(1))\n",
        "model.compile(loss=\"mean_squared_error\",optimizer='adam')\n",
        "model.fit(\n",
        "    xtrain,ytrain,epochs=100,validation_data=(xtest,ytest),batch_size=16,verbose=1\n",
        ")"
      ],
      "execution_count": 34,
      "outputs": [
        {
          "output_type": "stream",
          "text": [
            "Epoch 1/100\n",
            "143/143 [==============================] - 19s 9ms/step - loss: 0.0127 - val_loss: 0.0506\n",
            "Epoch 2/100\n",
            "143/143 [==============================] - 0s 3ms/step - loss: 0.0028 - val_loss: 0.0327\n",
            "Epoch 3/100\n",
            "143/143 [==============================] - 0s 3ms/step - loss: 0.0018 - val_loss: 0.0110\n",
            "Epoch 4/100\n",
            "143/143 [==============================] - 0s 3ms/step - loss: 4.1077e-04 - val_loss: 0.0023\n",
            "Epoch 5/100\n",
            "143/143 [==============================] - 0s 3ms/step - loss: 5.5838e-05 - val_loss: 0.0017\n",
            "Epoch 6/100\n",
            "143/143 [==============================] - 0s 3ms/step - loss: 4.9957e-05 - val_loss: 0.0017\n",
            "Epoch 7/100\n",
            "143/143 [==============================] - 0s 3ms/step - loss: 4.0589e-05 - val_loss: 0.0020\n",
            "Epoch 8/100\n",
            "143/143 [==============================] - 0s 3ms/step - loss: 4.0109e-05 - val_loss: 0.0020\n",
            "Epoch 9/100\n",
            "143/143 [==============================] - 0s 3ms/step - loss: 3.5285e-05 - val_loss: 0.0021\n",
            "Epoch 10/100\n",
            "143/143 [==============================] - 1s 3ms/step - loss: 3.2623e-05 - val_loss: 0.0021\n",
            "Epoch 11/100\n",
            "143/143 [==============================] - 0s 3ms/step - loss: 3.5954e-05 - val_loss: 0.0023\n",
            "Epoch 12/100\n",
            "143/143 [==============================] - 0s 3ms/step - loss: 3.2810e-05 - val_loss: 0.0023\n",
            "Epoch 13/100\n",
            "143/143 [==============================] - 0s 3ms/step - loss: 3.5972e-05 - val_loss: 0.0025\n",
            "Epoch 14/100\n",
            "143/143 [==============================] - 0s 3ms/step - loss: 2.7313e-05 - val_loss: 0.0025\n",
            "Epoch 15/100\n",
            "143/143 [==============================] - 0s 3ms/step - loss: 3.0818e-05 - val_loss: 0.0027\n",
            "Epoch 16/100\n",
            "143/143 [==============================] - 0s 3ms/step - loss: 2.3098e-05 - val_loss: 0.0027\n",
            "Epoch 17/100\n",
            "143/143 [==============================] - 0s 3ms/step - loss: 2.9053e-05 - val_loss: 0.0027\n",
            "Epoch 18/100\n",
            "143/143 [==============================] - 0s 3ms/step - loss: 2.9383e-05 - val_loss: 0.0030\n",
            "Epoch 19/100\n",
            "143/143 [==============================] - 0s 3ms/step - loss: 2.3500e-05 - val_loss: 0.0030\n",
            "Epoch 20/100\n",
            "143/143 [==============================] - 0s 3ms/step - loss: 2.7421e-05 - val_loss: 0.0032\n",
            "Epoch 21/100\n",
            "143/143 [==============================] - 0s 3ms/step - loss: 2.5077e-05 - val_loss: 0.0033\n",
            "Epoch 22/100\n",
            "143/143 [==============================] - 0s 3ms/step - loss: 2.2596e-05 - val_loss: 0.0032\n",
            "Epoch 23/100\n",
            "143/143 [==============================] - 0s 3ms/step - loss: 2.4453e-05 - val_loss: 0.0032\n",
            "Epoch 24/100\n",
            "143/143 [==============================] - 0s 3ms/step - loss: 2.4523e-05 - val_loss: 0.0034\n",
            "Epoch 25/100\n",
            "143/143 [==============================] - 0s 3ms/step - loss: 2.6076e-05 - val_loss: 0.0033\n",
            "Epoch 26/100\n",
            "143/143 [==============================] - 0s 3ms/step - loss: 2.5951e-05 - val_loss: 0.0034\n",
            "Epoch 27/100\n",
            "143/143 [==============================] - 1s 4ms/step - loss: 2.4185e-05 - val_loss: 0.0035\n",
            "Epoch 28/100\n",
            "143/143 [==============================] - 0s 3ms/step - loss: 2.9601e-05 - val_loss: 0.0033\n",
            "Epoch 29/100\n",
            "143/143 [==============================] - 0s 3ms/step - loss: 2.2008e-05 - val_loss: 0.0031\n",
            "Epoch 30/100\n",
            "143/143 [==============================] - 0s 3ms/step - loss: 2.1521e-05 - val_loss: 0.0033\n",
            "Epoch 31/100\n",
            "143/143 [==============================] - 1s 4ms/step - loss: 2.2642e-05 - val_loss: 0.0036\n",
            "Epoch 32/100\n",
            "143/143 [==============================] - 0s 3ms/step - loss: 2.8517e-05 - val_loss: 0.0035\n",
            "Epoch 33/100\n",
            "143/143 [==============================] - 0s 3ms/step - loss: 2.5716e-05 - val_loss: 0.0036\n",
            "Epoch 34/100\n",
            "143/143 [==============================] - 1s 4ms/step - loss: 2.6240e-05 - val_loss: 0.0037\n",
            "Epoch 35/100\n",
            "143/143 [==============================] - 0s 3ms/step - loss: 2.0525e-05 - val_loss: 0.0035\n",
            "Epoch 36/100\n",
            "143/143 [==============================] - 0s 3ms/step - loss: 2.2567e-05 - val_loss: 0.0036\n",
            "Epoch 37/100\n",
            "143/143 [==============================] - 0s 3ms/step - loss: 2.4291e-05 - val_loss: 0.0035\n",
            "Epoch 38/100\n",
            "143/143 [==============================] - 0s 3ms/step - loss: 2.1449e-05 - val_loss: 0.0037\n",
            "Epoch 39/100\n",
            "143/143 [==============================] - 0s 3ms/step - loss: 2.2843e-05 - val_loss: 0.0035\n",
            "Epoch 40/100\n",
            "143/143 [==============================] - 0s 3ms/step - loss: 2.2255e-05 - val_loss: 0.0037\n",
            "Epoch 41/100\n",
            "143/143 [==============================] - 0s 3ms/step - loss: 2.7561e-05 - val_loss: 0.0036\n",
            "Epoch 42/100\n",
            "143/143 [==============================] - 1s 4ms/step - loss: 2.3603e-05 - val_loss: 0.0034\n",
            "Epoch 43/100\n",
            "143/143 [==============================] - 0s 3ms/step - loss: 2.9110e-05 - val_loss: 0.0038\n",
            "Epoch 44/100\n",
            "143/143 [==============================] - 0s 3ms/step - loss: 2.2783e-05 - val_loss: 0.0039\n",
            "Epoch 45/100\n",
            "143/143 [==============================] - 0s 3ms/step - loss: 2.1366e-05 - val_loss: 0.0037\n",
            "Epoch 46/100\n",
            "143/143 [==============================] - 0s 3ms/step - loss: 2.5466e-05 - val_loss: 0.0039\n",
            "Epoch 47/100\n",
            "143/143 [==============================] - 1s 3ms/step - loss: 2.8562e-05 - val_loss: 0.0039\n",
            "Epoch 48/100\n",
            "143/143 [==============================] - 0s 3ms/step - loss: 1.8596e-05 - val_loss: 0.0040\n",
            "Epoch 49/100\n",
            "143/143 [==============================] - 0s 3ms/step - loss: 2.1280e-05 - val_loss: 0.0036\n",
            "Epoch 50/100\n",
            "143/143 [==============================] - 0s 3ms/step - loss: 1.8568e-05 - val_loss: 0.0038\n",
            "Epoch 51/100\n",
            "143/143 [==============================] - 0s 3ms/step - loss: 2.2375e-05 - val_loss: 0.0037\n",
            "Epoch 52/100\n",
            "143/143 [==============================] - 0s 3ms/step - loss: 2.4082e-05 - val_loss: 0.0040\n",
            "Epoch 53/100\n",
            "143/143 [==============================] - 0s 3ms/step - loss: 2.7194e-05 - val_loss: 0.0040\n",
            "Epoch 54/100\n",
            "143/143 [==============================] - 0s 3ms/step - loss: 2.1966e-05 - val_loss: 0.0039\n",
            "Epoch 55/100\n",
            "143/143 [==============================] - 0s 3ms/step - loss: 2.3242e-05 - val_loss: 0.0039\n",
            "Epoch 56/100\n",
            "143/143 [==============================] - 0s 3ms/step - loss: 2.4123e-05 - val_loss: 0.0036\n",
            "Epoch 57/100\n",
            "143/143 [==============================] - 1s 3ms/step - loss: 1.8607e-05 - val_loss: 0.0035\n",
            "Epoch 58/100\n",
            "143/143 [==============================] - 1s 4ms/step - loss: 1.8668e-05 - val_loss: 0.0039\n",
            "Epoch 59/100\n",
            "143/143 [==============================] - 0s 3ms/step - loss: 2.3908e-05 - val_loss: 0.0038\n",
            "Epoch 60/100\n",
            "143/143 [==============================] - 0s 3ms/step - loss: 1.8238e-05 - val_loss: 0.0039\n",
            "Epoch 61/100\n",
            "143/143 [==============================] - 0s 3ms/step - loss: 2.1887e-05 - val_loss: 0.0039\n",
            "Epoch 62/100\n",
            "143/143 [==============================] - 0s 3ms/step - loss: 2.6415e-05 - val_loss: 0.0037\n",
            "Epoch 63/100\n",
            "143/143 [==============================] - 1s 4ms/step - loss: 2.1198e-05 - val_loss: 0.0041\n",
            "Epoch 64/100\n",
            "143/143 [==============================] - 0s 3ms/step - loss: 2.2131e-05 - val_loss: 0.0039\n",
            "Epoch 65/100\n",
            "143/143 [==============================] - 0s 3ms/step - loss: 2.7272e-05 - val_loss: 0.0039\n",
            "Epoch 66/100\n",
            "143/143 [==============================] - 0s 3ms/step - loss: 1.7258e-05 - val_loss: 0.0039\n",
            "Epoch 67/100\n",
            "143/143 [==============================] - 0s 3ms/step - loss: 2.1038e-05 - val_loss: 0.0041\n",
            "Epoch 68/100\n",
            "143/143 [==============================] - 0s 3ms/step - loss: 2.1092e-05 - val_loss: 0.0039\n",
            "Epoch 69/100\n",
            "143/143 [==============================] - 0s 3ms/step - loss: 2.0157e-05 - val_loss: 0.0039\n",
            "Epoch 70/100\n",
            "143/143 [==============================] - 0s 3ms/step - loss: 2.3747e-05 - val_loss: 0.0041\n",
            "Epoch 71/100\n",
            "143/143 [==============================] - 0s 3ms/step - loss: 2.2757e-05 - val_loss: 0.0040\n",
            "Epoch 72/100\n",
            "143/143 [==============================] - 0s 3ms/step - loss: 1.9244e-05 - val_loss: 0.0040\n",
            "Epoch 73/100\n",
            "143/143 [==============================] - 0s 3ms/step - loss: 1.9397e-05 - val_loss: 0.0041\n",
            "Epoch 74/100\n",
            "143/143 [==============================] - 0s 3ms/step - loss: 1.7145e-05 - val_loss: 0.0038\n",
            "Epoch 75/100\n",
            "143/143 [==============================] - 0s 3ms/step - loss: 2.0081e-05 - val_loss: 0.0040\n",
            "Epoch 76/100\n",
            "143/143 [==============================] - 0s 3ms/step - loss: 1.7830e-05 - val_loss: 0.0041\n",
            "Epoch 77/100\n",
            "143/143 [==============================] - 0s 3ms/step - loss: 2.5460e-05 - val_loss: 0.0039\n",
            "Epoch 78/100\n",
            "143/143 [==============================] - 0s 3ms/step - loss: 2.4992e-05 - val_loss: 0.0039\n",
            "Epoch 79/100\n",
            "143/143 [==============================] - 0s 3ms/step - loss: 2.5686e-05 - val_loss: 0.0041\n",
            "Epoch 80/100\n",
            "143/143 [==============================] - 0s 3ms/step - loss: 2.5353e-05 - val_loss: 0.0038\n",
            "Epoch 81/100\n",
            "143/143 [==============================] - 0s 3ms/step - loss: 1.8946e-05 - val_loss: 0.0038\n",
            "Epoch 82/100\n",
            "143/143 [==============================] - 0s 3ms/step - loss: 2.3144e-05 - val_loss: 0.0040\n",
            "Epoch 83/100\n",
            "143/143 [==============================] - 0s 3ms/step - loss: 2.0300e-05 - val_loss: 0.0040\n",
            "Epoch 84/100\n",
            "143/143 [==============================] - 0s 3ms/step - loss: 2.2381e-05 - val_loss: 0.0038\n",
            "Epoch 85/100\n",
            "143/143 [==============================] - 0s 3ms/step - loss: 2.1542e-05 - val_loss: 0.0043\n",
            "Epoch 86/100\n",
            "143/143 [==============================] - 0s 3ms/step - loss: 1.9731e-05 - val_loss: 0.0043\n",
            "Epoch 87/100\n",
            "143/143 [==============================] - 0s 3ms/step - loss: 3.8750e-05 - val_loss: 0.0040\n",
            "Epoch 88/100\n",
            "143/143 [==============================] - 0s 3ms/step - loss: 1.7850e-05 - val_loss: 0.0039\n",
            "Epoch 89/100\n",
            "143/143 [==============================] - 0s 3ms/step - loss: 1.9790e-05 - val_loss: 0.0040\n",
            "Epoch 90/100\n",
            "143/143 [==============================] - 0s 3ms/step - loss: 2.4172e-05 - val_loss: 0.0039\n",
            "Epoch 91/100\n",
            "143/143 [==============================] - 0s 3ms/step - loss: 2.3117e-05 - val_loss: 0.0043\n",
            "Epoch 92/100\n",
            "143/143 [==============================] - 0s 3ms/step - loss: 1.8124e-05 - val_loss: 0.0038\n",
            "Epoch 93/100\n",
            "143/143 [==============================] - 0s 3ms/step - loss: 1.8958e-05 - val_loss: 0.0042\n",
            "Epoch 94/100\n",
            "143/143 [==============================] - 0s 3ms/step - loss: 2.6745e-05 - val_loss: 0.0040\n",
            "Epoch 95/100\n",
            "143/143 [==============================] - 0s 3ms/step - loss: 2.0310e-05 - val_loss: 0.0042\n",
            "Epoch 96/100\n",
            "143/143 [==============================] - 0s 3ms/step - loss: 1.7723e-05 - val_loss: 0.0040\n",
            "Epoch 97/100\n",
            "143/143 [==============================] - 0s 3ms/step - loss: 2.0127e-05 - val_loss: 0.0040\n",
            "Epoch 98/100\n",
            "143/143 [==============================] - 0s 3ms/step - loss: 2.2334e-05 - val_loss: 0.0042\n",
            "Epoch 99/100\n",
            "143/143 [==============================] - 0s 3ms/step - loss: 2.7003e-05 - val_loss: 0.0042\n",
            "Epoch 100/100\n",
            "143/143 [==============================] - 0s 3ms/step - loss: 2.1101e-05 - val_loss: 0.0043\n"
          ],
          "name": "stdout"
        },
        {
          "output_type": "execute_result",
          "data": {
            "text/plain": [
              "<keras.callbacks.History at 0x7f7fc87d3f50>"
            ]
          },
          "metadata": {
            "tags": []
          },
          "execution_count": 34
        }
      ]
    },
    {
      "cell_type": "code",
      "metadata": {
        "colab": {
          "base_uri": "https://localhost:8080/"
        },
        "id": "JnvCJFTWzYPP",
        "outputId": "2a1818a4-6f31-4282-e2b4-6bcf56297442"
      },
      "source": [
        "model.summary() # Summary of the model parameters"
      ],
      "execution_count": 35,
      "outputs": [
        {
          "output_type": "stream",
          "text": [
            "Model: \"sequential_1\"\n",
            "_________________________________________________________________\n",
            "Layer (type)                 Output Shape              Param #   \n",
            "=================================================================\n",
            "lstm_1 (LSTM)                (None, 4)                 112       \n",
            "_________________________________________________________________\n",
            "dense_1 (Dense)              (None, 1)                 5         \n",
            "=================================================================\n",
            "Total params: 117\n",
            "Trainable params: 117\n",
            "Non-trainable params: 0\n",
            "_________________________________________________________________\n"
          ],
          "name": "stdout"
        }
      ]
    },
    {
      "cell_type": "code",
      "metadata": {
        "id": "JR5v5Olgz5Hi"
      },
      "source": [
        "# Prediction phase\n",
        "train_predict = model.predict(xtrain) \n",
        "test_predict = model.predict(xtest)"
      ],
      "execution_count": 36,
      "outputs": []
    },
    {
      "cell_type": "code",
      "metadata": {
        "id": "lt0ocssxqV9s"
      },
      "source": [
        "# Here we are concatenating with an array of zeros since we know that our scaler requires a 2D input\n",
        "train_predict = np.c_[train_predict,np.zeros(train_predict.shape)]\n",
        "test_predict = np.c_[test_predict,np.zeros(test_predict.shape)]"
      ],
      "execution_count": 40,
      "outputs": []
    },
    {
      "cell_type": "code",
      "metadata": {
        "id": "3YVBsxuXtSvn"
      },
      "source": [
        "# to obtain the values on the right scale, we have to inverse transform the data\n",
        "train_predict = scaler.inverse_transform(train_predict)\n",
        "train_predict = [x[0] for x in train_predict]\n",
        "\n",
        "test_predict = scaler.inverse_transform(test_predict)\n",
        "test_predict = [x[0] for x in test_predict]"
      ],
      "execution_count": 42,
      "outputs": []
    },
    {
      "cell_type": "code",
      "metadata": {
        "colab": {
          "base_uri": "https://localhost:8080/"
        },
        "id": "Y5NE8zxmukdG",
        "outputId": "9b239cbf-8ec3-4ff5-de7d-27d4b42f73bf"
      },
      "source": [
        "print(train_predict[:5])\n",
        "print(test_predict[:5])"
      ],
      "execution_count": 43,
      "outputs": [
        {
          "output_type": "stream",
          "text": [
            "[128.9825366589186, 128.791668230779, 250.81547078082818, 145.12735086347638, 107.12783401435135]\n",
            "[11970.829458753662, 11754.452530331122, 11848.608578931486, 11352.281297994365, 11475.612062204065]\n"
          ],
          "name": "stdout"
        }
      ]
    },
    {
      "cell_type": "code",
      "metadata": {
        "id": "sWaxLthNu-eM"
      },
      "source": [
        "from sklearn.metrics import mean_squared_error"
      ],
      "execution_count": 44,
      "outputs": []
    },
    {
      "cell_type": "code",
      "metadata": {
        "colab": {
          "base_uri": "https://localhost:8080/"
        },
        "id": "hvvQ1L37vPGx",
        "outputId": "79f477f1-844f-40e7-81d8-91091e0d1002"
      },
      "source": [
        "train_score = mean_squared_error([x[0][0] for x in xtrain],train_predict, squared=False)\n",
        "print('Train score: {}'.format(train_score))\n",
        "test_score = mean_squared_error([x[0][0] for x in xtest],test_predict,squared=False)\n",
        "print('Test score: {}'.format(test_score))"
      ],
      "execution_count": 46,
      "outputs": [
        {
          "output_type": "stream",
          "text": [
            "Train score: 4420.036011547039\n",
            "Test score: 13957.621757708266\n"
          ],
          "name": "stdout"
        }
      ]
    },
    {
      "cell_type": "code",
      "metadata": {
        "colab": {
          "base_uri": "https://localhost:8080/"
        },
        "id": "1EJ3jp68wPaz",
        "outputId": "ddfbd526-af74-4fb5-b861-d08a6333b2c1"
      },
      "source": [
        "print(test_predict[:5])\n",
        "#print(scaler.inverse_transform(y_test[:5]))\n"
      ],
      "execution_count": 62,
      "outputs": [
        {
          "output_type": "stream",
          "text": [
            "[11970.829458753662, 11754.452530331122, 11848.608578931486, 11352.281297994365, 11475.612062204065]\n"
          ],
          "name": "stdout"
        }
      ]
    },
    {
      "cell_type": "code",
      "metadata": {
        "colab": {
          "base_uri": "https://localhost:8080/"
        },
        "id": "APWdIAhqz_0r",
        "outputId": "e666592f-ddc3-4ddc-ea6e-bbb9bb34ab48"
      },
      "source": [
        "original_btc_price = [y[0] for y in x[split_point:]] # generating the original btc price sequence\n",
        "original_btc_price[:5]"
      ],
      "execution_count": 78,
      "outputs": [
        {
          "output_type": "execute_result",
          "data": {
            "text/plain": [
              "[11805.653725299999,\n",
              " 11478.169346100001,\n",
              " 11941.9683406,\n",
              " 11966.407405,\n",
              " 11862.936759999999]"
            ]
          },
          "metadata": {
            "tags": []
          },
          "execution_count": 78
        }
      ]
    },
    {
      "cell_type": "code",
      "metadata": {
        "colab": {
          "base_uri": "https://localhost:8080/",
          "height": 621
        },
        "id": "NoqvmruprRrZ",
        "outputId": "68a55b8f-c6a0-418e-e04c-b35d4cc044fe"
      },
      "source": [
        "# We now try to visualize our prediction along with the original data in order to see how well it performed!\n",
        "plt.figure(figsize=(20,10))\n",
        "plt.plot(original_stock_price,color='green',label='Original bitcoin price')\n",
        "plt.plot(test_predict,color='red',label='Predicted Bitcoin price')\n",
        "plt.title('Bitcoin price prediction using LSTM')\n",
        "plt.xlabel('Daily timeframe')\n",
        "plt.ylabel('Price')\n",
        "plt.legend()\n",
        "plt.show()"
      ],
      "execution_count": 93,
      "outputs": [
        {
          "output_type": "display_data",
          "data": {
            "image/png": "[encoded data removed]",
            "text/plain": [
              "<Figure size 1440x720 with 1 Axes>"
            ]
          },
          "metadata": {
            "tags": [],
            "needs_background": "light"
          }
        }
      ]
    },
    {
      "cell_type": "code",
      "metadata": {
        "id": "JlfNB-HswDOp"
      },
      "source": [
        ""
      ],
      "execution_count": null,
      "outputs": []
    }
  ]
}